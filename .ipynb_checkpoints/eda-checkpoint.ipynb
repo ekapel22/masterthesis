{
 "cells": [
  {
   "cell_type": "markdown",
   "metadata": {},
   "source": [
    "# Exploratory Data Analysis (EDA)"
   ]
  },
  {
   "cell_type": "markdown",
   "metadata": {},
   "source": [
    "https://www.kaggle.com/ekami66/detailed-exploratory-data-analysis-with-python/notebook"
   ]
  },
  {
   "cell_type": "markdown",
   "metadata": {},
   "source": [
    "### Preparations"
   ]
  },
  {
   "cell_type": "code",
   "execution_count": 1,
   "metadata": {},
   "outputs": [],
   "source": [
    "#!pip install seaborn"
   ]
  },
  {
   "cell_type": "code",
   "execution_count": 2,
   "metadata": {},
   "outputs": [],
   "source": [
    "import pandas as pd\n",
    "import seaborn as sns\n",
    "import numpy as np\n",
    "import matplotlib.pyplot as plt\n",
    "import requests\n",
    "\n",
    "#matplotlib inline\n",
    "plt.style.use('bmh') # Other styles 'dark_background', 'ggplot', 'fivethirtyeight', 'grayscale'\n",
    "pd.options.display.max_columns = 500"
   ]
  },
  {
   "cell_type": "code",
   "execution_count": 3,
   "metadata": {},
   "outputs": [
    {
     "data": {
      "text/plain": [
       "2594539"
      ]
     },
     "execution_count": 3,
     "metadata": {},
     "output_type": "execute_result"
    }
   ],
   "source": [
    "poms = spark.read.parquet(\"gs://mit-processed-events-prod.npo-data.nl/poms/\")\n",
    "poms.count()"
   ]
  },
  {
   "cell_type": "code",
   "execution_count": 5,
   "metadata": {
    "scrolled": true
   },
   "outputs": [
    {
     "data": {
      "text/html": [
       "<div>\n",
       "<style scoped>\n",
       "    .dataframe tbody tr th:only-of-type {\n",
       "        vertical-align: middle;\n",
       "    }\n",
       "\n",
       "    .dataframe tbody tr th {\n",
       "        vertical-align: top;\n",
       "    }\n",
       "\n",
       "    .dataframe thead th {\n",
       "        text-align: right;\n",
       "    }\n",
       "</style>\n",
       "<table border=\"1\" class=\"dataframe\">\n",
       "  <thead>\n",
       "    <tr style=\"text-align: right;\">\n",
       "      <th></th>\n",
       "      <th>mid</th>\n",
       "      <th>class</th>\n",
       "      <th>avType</th>\n",
       "      <th>title</th>\n",
       "      <th>subTitle</th>\n",
       "      <th>description</th>\n",
       "      <th>shortDescription</th>\n",
       "      <th>duration</th>\n",
       "      <th>durationMillis</th>\n",
       "      <th>imageTitle</th>\n",
       "      <th>imageId</th>\n",
       "      <th>programRef</th>\n",
       "      <th>seriesRef</th>\n",
       "      <th>seasonRef</th>\n",
       "      <th>workflow</th>\n",
       "      <th>type</th>\n",
       "      <th>broadcaster</th>\n",
       "      <th>scheduleEventStartChannel</th>\n",
       "      <th>isYouth</th>\n",
       "      <th>playsFree</th>\n",
       "      <th>playsLegacy</th>\n",
       "      <th>playsPlus</th>\n",
       "      <th>playsPremium</th>\n",
       "      <th>playsSettop</th>\n",
       "      <th>episodeOfString</th>\n",
       "      <th>imagesString</th>\n",
       "      <th>memberOfString</th>\n",
       "      <th>profiles</th>\n",
       "      <th>genres</th>\n",
       "      <th>sortDate</th>\n",
       "      <th>scheduleEventStart</th>\n",
       "      <th>broadcasters</th>\n",
       "      <th>scheduleEvents</th>\n",
       "    </tr>\n",
       "  </thead>\n",
       "  <tbody>\n",
       "    <tr>\n",
       "      <th>0</th>\n",
       "      <td>POMS_MAX_396029</td>\n",
       "      <td>Segment</td>\n",
       "      <td>AUDIO</td>\n",
       "      <td>Gast: Harry Klooster III</td>\n",
       "      <td>None</td>\n",
       "      <td>None</td>\n",
       "      <td>None</td>\n",
       "      <td>PT5M14S</td>\n",
       "      <td>314000.0</td>\n",
       "      <td>None</td>\n",
       "      <td>-1.0</td>\n",
       "      <td>POMS_MAX_384768</td>\n",
       "      <td>POMS_S_MAX_537669</td>\n",
       "      <td>POMS_S_MAX_537669</td>\n",
       "      <td>PUBLISHED</td>\n",
       "      <td>SEGMENT</td>\n",
       "      <td>MAX</td>\n",
       "      <td>None</td>\n",
       "      <td>False</td>\n",
       "      <td>False</td>\n",
       "      <td>False</td>\n",
       "      <td>False</td>\n",
       "      <td>False</td>\n",
       "      <td>False</td>\n",
       "      <td>None</td>\n",
       "      <td>None</td>\n",
       "      <td>None</td>\n",
       "      <td>[ntrglobal, max]</td>\n",
       "      <td>None</td>\n",
       "      <td>2013-08-29 14:00:00</td>\n",
       "      <td>NaT</td>\n",
       "      <td>[MAX]</td>\n",
       "      <td>None</td>\n",
       "    </tr>\n",
       "    <tr>\n",
       "      <th>1</th>\n",
       "      <td>REG_BRAB_TV1849136</td>\n",
       "      <td>Program</td>\n",
       "      <td>VIDEO</td>\n",
       "      <td>Gestrikt</td>\n",
       "      <td>Gestrikt</td>\n",
       "      <td>'Gestrikt' is terug! In het nieuwe seizoen nee...</td>\n",
       "      <td>Volgens sommigen is polo de laatste elitesport...</td>\n",
       "      <td>None</td>\n",
       "      <td>-1.0</td>\n",
       "      <td>Gestrikt</td>\n",
       "      <td>0.0</td>\n",
       "      <td>None</td>\n",
       "      <td>POMS_S_OBBT_521693</td>\n",
       "      <td>SREGIOOB_1673035</td>\n",
       "      <td>PUBLISHED</td>\n",
       "      <td>BROADCAST</td>\n",
       "      <td>OBBT</td>\n",
       "      <td>None</td>\n",
       "      <td>False</td>\n",
       "      <td>False</td>\n",
       "      <td>False</td>\n",
       "      <td>False</td>\n",
       "      <td>False</td>\n",
       "      <td>False</td>\n",
       "      <td>[{\"added\":\"2014-05-31T00:10:56.054Z\",\"midRef\":...</td>\n",
       "      <td>[{\"highlighted\":false,\"title\":\"Gestrikt\",\"type...</td>\n",
       "      <td>None</td>\n",
       "      <td>[twcctv, npofocusmedia, ntrwetenschapmedia, nt...</td>\n",
       "      <td>None</td>\n",
       "      <td>2014-05-31 00:10:55</td>\n",
       "      <td>NaT</td>\n",
       "      <td>[OBBT]</td>\n",
       "      <td>None</td>\n",
       "    </tr>\n",
       "    <tr>\n",
       "      <th>2</th>\n",
       "      <td>WO_NCRV_008919</td>\n",
       "      <td>Program</td>\n",
       "      <td>VIDEO</td>\n",
       "      <td>Reliflex</td>\n",
       "      <td>Bahaï</td>\n",
       "      <td>Jan Lagas is Bahaí. Dat was hij niet altijd. H...</td>\n",
       "      <td>Jan Lagas is Bahaí. Dat was hij niet altijd. H...</td>\n",
       "      <td>None</td>\n",
       "      <td>-1.0</td>\n",
       "      <td>None</td>\n",
       "      <td>-1.0</td>\n",
       "      <td>None</td>\n",
       "      <td>None</td>\n",
       "      <td>None</td>\n",
       "      <td>PUBLISHED</td>\n",
       "      <td>CLIP</td>\n",
       "      <td>NCRV</td>\n",
       "      <td>None</td>\n",
       "      <td>False</td>\n",
       "      <td>False</td>\n",
       "      <td>False</td>\n",
       "      <td>False</td>\n",
       "      <td>False</td>\n",
       "      <td>False</td>\n",
       "      <td>None</td>\n",
       "      <td>None</td>\n",
       "      <td>[{\"added\":\"2013-11-07T08:21:37.470Z\",\"midRef\":...</td>\n",
       "      <td>[ntrglobal]</td>\n",
       "      <td>[3.0.1.7.26]</td>\n",
       "      <td>2013-05-15 09:26:43</td>\n",
       "      <td>NaT</td>\n",
       "      <td>[NCRV]</td>\n",
       "      <td>None</td>\n",
       "    </tr>\n",
       "    <tr>\n",
       "      <th>3</th>\n",
       "      <td>WO_NOS_3434281</td>\n",
       "      <td>Program</td>\n",
       "      <td>VIDEO</td>\n",
       "      <td>Wüst ziet hereniging met Kramer wel zitten</td>\n",
       "      <td>None</td>\n",
       "      <td>None</td>\n",
       "      <td>None</td>\n",
       "      <td>None</td>\n",
       "      <td>-1.0</td>\n",
       "      <td>None</td>\n",
       "      <td>-1.0</td>\n",
       "      <td>None</td>\n",
       "      <td>None</td>\n",
       "      <td>None</td>\n",
       "      <td>PUBLISHED</td>\n",
       "      <td>CLIP</td>\n",
       "      <td>NOS</td>\n",
       "      <td>None</td>\n",
       "      <td>False</td>\n",
       "      <td>True</td>\n",
       "      <td>False</td>\n",
       "      <td>False</td>\n",
       "      <td>False</td>\n",
       "      <td>False</td>\n",
       "      <td>None</td>\n",
       "      <td>None</td>\n",
       "      <td>None</td>\n",
       "      <td>[twcctv, ntrglobal, nos]</td>\n",
       "      <td>None</td>\n",
       "      <td>2016-03-04 18:53:56</td>\n",
       "      <td>NaT</td>\n",
       "      <td>[NOS]</td>\n",
       "      <td>None</td>\n",
       "    </tr>\n",
       "    <tr>\n",
       "      <th>4</th>\n",
       "      <td>POMS_VPRO_356810</td>\n",
       "      <td>Program</td>\n",
       "      <td>AUDIO</td>\n",
       "      <td>De avonden</td>\n",
       "      <td>None</td>\n",
       "      <td>van 20.00 tot 21.30 STUDIO NMO \\nMedy van der ...</td>\n",
       "      <td>De NMO bestaat 10 jaar en houdt daarom een mar...</td>\n",
       "      <td>PT1H57M57S</td>\n",
       "      <td>7077000.0</td>\n",
       "      <td>nmo logo</td>\n",
       "      <td>0.0</td>\n",
       "      <td>None</td>\n",
       "      <td>AUTO_DEAVONDEN</td>\n",
       "      <td>POMS_S_VPRO_356059</td>\n",
       "      <td>PUBLISHED</td>\n",
       "      <td>BROADCAST</td>\n",
       "      <td>VPRO</td>\n",
       "      <td>None</td>\n",
       "      <td>False</td>\n",
       "      <td>False</td>\n",
       "      <td>False</td>\n",
       "      <td>False</td>\n",
       "      <td>False</td>\n",
       "      <td>False</td>\n",
       "      <td>[{\"added\":\"2013-05-16T09:31:44.075Z\",\"midRef\":...</td>\n",
       "      <td>[{\"description\":\"nmo logo\",\"highlighted\":false...</td>\n",
       "      <td>None</td>\n",
       "      <td>[vpro, woord, vpro-predictions, npofocusmedia,...</td>\n",
       "      <td>None</td>\n",
       "      <td>2003-10-23 20:02:00</td>\n",
       "      <td>NaT</td>\n",
       "      <td>[VPRO]</td>\n",
       "      <td>None</td>\n",
       "    </tr>\n",
       "  </tbody>\n",
       "</table>\n",
       "</div>"
      ],
      "text/plain": [
       "                  mid    class avType  \\\n",
       "0     POMS_MAX_396029  Segment  AUDIO   \n",
       "1  REG_BRAB_TV1849136  Program  VIDEO   \n",
       "2      WO_NCRV_008919  Program  VIDEO   \n",
       "3      WO_NOS_3434281  Program  VIDEO   \n",
       "4    POMS_VPRO_356810  Program  AUDIO   \n",
       "\n",
       "                                        title   subTitle  \\\n",
       "0                    Gast: Harry Klooster III       None   \n",
       "1                                    Gestrikt  Gestrikt    \n",
       "2                                    Reliflex      Bahaï   \n",
       "3  Wüst ziet hereniging met Kramer wel zitten       None   \n",
       "4                                  De avonden       None   \n",
       "\n",
       "                                         description  \\\n",
       "0                                               None   \n",
       "1  'Gestrikt' is terug! In het nieuwe seizoen nee...   \n",
       "2  Jan Lagas is Bahaí. Dat was hij niet altijd. H...   \n",
       "3                                               None   \n",
       "4  van 20.00 tot 21.30 STUDIO NMO \\nMedy van der ...   \n",
       "\n",
       "                                    shortDescription    duration  \\\n",
       "0                                               None     PT5M14S   \n",
       "1  Volgens sommigen is polo de laatste elitesport...        None   \n",
       "2  Jan Lagas is Bahaí. Dat was hij niet altijd. H...        None   \n",
       "3                                               None        None   \n",
       "4  De NMO bestaat 10 jaar en houdt daarom een mar...  PT1H57M57S   \n",
       "\n",
       "   durationMillis imageTitle  imageId       programRef           seriesRef  \\\n",
       "0        314000.0       None     -1.0  POMS_MAX_384768   POMS_S_MAX_537669   \n",
       "1            -1.0   Gestrikt      0.0             None  POMS_S_OBBT_521693   \n",
       "2            -1.0       None     -1.0             None                None   \n",
       "3            -1.0       None     -1.0             None                None   \n",
       "4       7077000.0   nmo logo      0.0             None      AUTO_DEAVONDEN   \n",
       "\n",
       "            seasonRef   workflow       type broadcaster  \\\n",
       "0   POMS_S_MAX_537669  PUBLISHED    SEGMENT         MAX   \n",
       "1    SREGIOOB_1673035  PUBLISHED  BROADCAST        OBBT   \n",
       "2                None  PUBLISHED       CLIP        NCRV   \n",
       "3                None  PUBLISHED       CLIP         NOS   \n",
       "4  POMS_S_VPRO_356059  PUBLISHED  BROADCAST        VPRO   \n",
       "\n",
       "  scheduleEventStartChannel isYouth playsFree playsLegacy playsPlus  \\\n",
       "0                      None   False     False       False     False   \n",
       "1                      None   False     False       False     False   \n",
       "2                      None   False     False       False     False   \n",
       "3                      None   False      True       False     False   \n",
       "4                      None   False     False       False     False   \n",
       "\n",
       "  playsPremium playsSettop                                    episodeOfString  \\\n",
       "0        False       False                                               None   \n",
       "1        False       False  [{\"added\":\"2014-05-31T00:10:56.054Z\",\"midRef\":...   \n",
       "2        False       False                                               None   \n",
       "3        False       False                                               None   \n",
       "4        False       False  [{\"added\":\"2013-05-16T09:31:44.075Z\",\"midRef\":...   \n",
       "\n",
       "                                        imagesString  \\\n",
       "0                                               None   \n",
       "1  [{\"highlighted\":false,\"title\":\"Gestrikt\",\"type...   \n",
       "2                                               None   \n",
       "3                                               None   \n",
       "4  [{\"description\":\"nmo logo\",\"highlighted\":false...   \n",
       "\n",
       "                                      memberOfString  \\\n",
       "0                                               None   \n",
       "1                                               None   \n",
       "2  [{\"added\":\"2013-11-07T08:21:37.470Z\",\"midRef\":...   \n",
       "3                                               None   \n",
       "4                                               None   \n",
       "\n",
       "                                            profiles        genres  \\\n",
       "0                                   [ntrglobal, max]          None   \n",
       "1  [twcctv, npofocusmedia, ntrwetenschapmedia, nt...          None   \n",
       "2                                        [ntrglobal]  [3.0.1.7.26]   \n",
       "3                           [twcctv, ntrglobal, nos]          None   \n",
       "4  [vpro, woord, vpro-predictions, npofocusmedia,...          None   \n",
       "\n",
       "             sortDate scheduleEventStart broadcasters scheduleEvents  \n",
       "0 2013-08-29 14:00:00                NaT        [MAX]           None  \n",
       "1 2014-05-31 00:10:55                NaT       [OBBT]           None  \n",
       "2 2013-05-15 09:26:43                NaT       [NCRV]           None  \n",
       "3 2016-03-04 18:53:56                NaT        [NOS]           None  \n",
       "4 2003-10-23 20:02:00                NaT       [VPRO]           None  "
      ]
     },
     "execution_count": 5,
     "metadata": {},
     "output_type": "execute_result"
    }
   ],
   "source": [
    "df = poms.limit(100000).toPandas()\n",
    "df.head()"
   ]
  },
  {
   "cell_type": "code",
   "execution_count": 6,
   "metadata": {
    "scrolled": true
   },
   "outputs": [
    {
     "name": "stdout",
     "output_type": "stream",
     "text": [
      "<class 'pandas.core.frame.DataFrame'>\n",
      "RangeIndex: 100000 entries, 0 to 99999\n",
      "Data columns (total 33 columns):\n",
      "mid                          100000 non-null object\n",
      "class                        68937 non-null object\n",
      "avType                       68937 non-null object\n",
      "title                        68937 non-null object\n",
      "subTitle                     12895 non-null object\n",
      "description                  47881 non-null object\n",
      "shortDescription             22929 non-null object\n",
      "duration                     54244 non-null object\n",
      "durationMillis               68503 non-null float64\n",
      "imageTitle                   38925 non-null object\n",
      "imageId                      68937 non-null float64\n",
      "programRef                   16766 non-null object\n",
      "seriesRef                    47330 non-null object\n",
      "seasonRef                    46712 non-null object\n",
      "workflow                     100000 non-null object\n",
      "type                         68937 non-null object\n",
      "broadcaster                  68283 non-null object\n",
      "scheduleEventStartChannel    30988 non-null object\n",
      "isYouth                      68298 non-null object\n",
      "playsFree                    68937 non-null object\n",
      "playsLegacy                  68937 non-null object\n",
      "playsPlus                    68937 non-null object\n",
      "playsPremium                 68937 non-null object\n",
      "playsSettop                  68937 non-null object\n",
      "episodeOfString              31023 non-null object\n",
      "imagesString                 38925 non-null object\n",
      "memberOfString               8381 non-null object\n",
      "profiles                     57249 non-null object\n",
      "genres                       25917 non-null object\n",
      "sortDate                     66432 non-null datetime64[ns]\n",
      "scheduleEventStart           30988 non-null datetime64[ns]\n",
      "broadcasters                 68247 non-null object\n",
      "scheduleEvents               30988 non-null object\n",
      "dtypes: datetime64[ns](2), float64(2), object(29)\n",
      "memory usage: 25.2+ MB\n"
     ]
    }
   ],
   "source": [
    "df.info()"
   ]
  },
  {
   "cell_type": "markdown",
   "metadata": {},
   "source": [
    "Some features have quite a bit of missing values, for now features with 25% or less NaN values have been removed. Also some variables have been removed that aren't necessary for the research, like imageId, imageTitle, imagesString, duration, durationMillis, playsFree, playsLegacy, playsPlus, playsPremium, playsSettop, scheduleEventStart, scheduleEvents, seriesRef, seasonRef, episodeOfString, sortDate."
   ]
  },
  {
   "cell_type": "code",
   "execution_count": 211,
   "metadata": {},
   "outputs": [
    {
     "name": "stdout",
     "output_type": "stream",
     "text": [
      "List of dropped columns:\n",
      "subTitle, shortDescription, duration, durationMillis, imageTitle, imageId, programRef, seriesRef, seasonRef, scheduleEventStartChannel, playsFree, playsLegacy, playsPlus, playsPremium, playsSettop, episodeOfString, imagesString, memberOfString, sortDate, scheduleEventStart, scheduleEvents, \n",
      "Count: 21\n"
     ]
    }
   ],
   "source": [
    "df2 = df[[column for column in df if df[column].count() / float(len(df)) >= 0.25]]\n",
    "df2 = df[['mid', 'class', 'avType', 'title', 'description', 'workflow', 'type', 'broadcaster', 'isYouth', 'profiles', 'genres', 'broadcasters']].copy()\n",
    "print('List of dropped columns:')\n",
    "count = 0\n",
    "variables = ''\n",
    "for c in df.columns:\n",
    "    if c not in df2.columns:\n",
    "        variables = variables + str(c) + ', '\n",
    "        count = count + 1\n",
    "print(variables)\n",
    "print('Count: ' + str(count))\n",
    "df = df2"
   ]
  },
  {
   "cell_type": "code",
   "execution_count": 162,
   "metadata": {
    "scrolled": true
   },
   "outputs": [
    {
     "data": {
      "text/html": [
       "<div>\n",
       "<style scoped>\n",
       "    .dataframe tbody tr th:only-of-type {\n",
       "        vertical-align: middle;\n",
       "    }\n",
       "\n",
       "    .dataframe tbody tr th {\n",
       "        vertical-align: top;\n",
       "    }\n",
       "\n",
       "    .dataframe thead th {\n",
       "        text-align: right;\n",
       "    }\n",
       "</style>\n",
       "<table border=\"1\" class=\"dataframe\">\n",
       "  <thead>\n",
       "    <tr style=\"text-align: right;\">\n",
       "      <th></th>\n",
       "      <th>mid</th>\n",
       "      <th>class</th>\n",
       "      <th>avType</th>\n",
       "      <th>title</th>\n",
       "      <th>description</th>\n",
       "      <th>workflow</th>\n",
       "      <th>type</th>\n",
       "      <th>broadcaster</th>\n",
       "      <th>isYouth</th>\n",
       "      <th>profiles</th>\n",
       "      <th>genres</th>\n",
       "      <th>broadcasters</th>\n",
       "    </tr>\n",
       "  </thead>\n",
       "  <tbody>\n",
       "    <tr>\n",
       "      <th>0</th>\n",
       "      <td>POMS_MAX_396029</td>\n",
       "      <td>Segment</td>\n",
       "      <td>AUDIO</td>\n",
       "      <td>Gast: Harry Klooster III</td>\n",
       "      <td>None</td>\n",
       "      <td>PUBLISHED</td>\n",
       "      <td>SEGMENT</td>\n",
       "      <td>MAX</td>\n",
       "      <td>False</td>\n",
       "      <td>[ntrglobal, max]</td>\n",
       "      <td>None</td>\n",
       "      <td>[MAX]</td>\n",
       "    </tr>\n",
       "    <tr>\n",
       "      <th>1</th>\n",
       "      <td>REG_BRAB_TV1849136</td>\n",
       "      <td>Program</td>\n",
       "      <td>VIDEO</td>\n",
       "      <td>Gestrikt</td>\n",
       "      <td>'Gestrikt' is terug! In het nieuwe seizoen nee...</td>\n",
       "      <td>PUBLISHED</td>\n",
       "      <td>BROADCAST</td>\n",
       "      <td>OBBT</td>\n",
       "      <td>False</td>\n",
       "      <td>[twcctv, npofocusmedia, ntrwetenschapmedia, nt...</td>\n",
       "      <td>None</td>\n",
       "      <td>[OBBT]</td>\n",
       "    </tr>\n",
       "    <tr>\n",
       "      <th>2</th>\n",
       "      <td>WO_NCRV_008919</td>\n",
       "      <td>Program</td>\n",
       "      <td>VIDEO</td>\n",
       "      <td>Reliflex</td>\n",
       "      <td>Jan Lagas is Bahaí. Dat was hij niet altijd. H...</td>\n",
       "      <td>PUBLISHED</td>\n",
       "      <td>CLIP</td>\n",
       "      <td>NCRV</td>\n",
       "      <td>False</td>\n",
       "      <td>[ntrglobal]</td>\n",
       "      <td>[3.0.1.7.26]</td>\n",
       "      <td>[NCRV]</td>\n",
       "    </tr>\n",
       "    <tr>\n",
       "      <th>3</th>\n",
       "      <td>WO_NOS_3434281</td>\n",
       "      <td>Program</td>\n",
       "      <td>VIDEO</td>\n",
       "      <td>Wüst ziet hereniging met Kramer wel zitten</td>\n",
       "      <td>None</td>\n",
       "      <td>PUBLISHED</td>\n",
       "      <td>CLIP</td>\n",
       "      <td>NOS</td>\n",
       "      <td>False</td>\n",
       "      <td>[twcctv, ntrglobal, nos]</td>\n",
       "      <td>None</td>\n",
       "      <td>[NOS]</td>\n",
       "    </tr>\n",
       "    <tr>\n",
       "      <th>4</th>\n",
       "      <td>POMS_VPRO_356810</td>\n",
       "      <td>Program</td>\n",
       "      <td>AUDIO</td>\n",
       "      <td>De avonden</td>\n",
       "      <td>van 20.00 tot 21.30 STUDIO NMO \\nMedy van der ...</td>\n",
       "      <td>PUBLISHED</td>\n",
       "      <td>BROADCAST</td>\n",
       "      <td>VPRO</td>\n",
       "      <td>False</td>\n",
       "      <td>[vpro, woord, vpro-predictions, npofocusmedia,...</td>\n",
       "      <td>None</td>\n",
       "      <td>[VPRO]</td>\n",
       "    </tr>\n",
       "  </tbody>\n",
       "</table>\n",
       "</div>"
      ],
      "text/plain": [
       "                  mid    class avType  \\\n",
       "0     POMS_MAX_396029  Segment  AUDIO   \n",
       "1  REG_BRAB_TV1849136  Program  VIDEO   \n",
       "2      WO_NCRV_008919  Program  VIDEO   \n",
       "3      WO_NOS_3434281  Program  VIDEO   \n",
       "4    POMS_VPRO_356810  Program  AUDIO   \n",
       "\n",
       "                                        title  \\\n",
       "0                    Gast: Harry Klooster III   \n",
       "1                                    Gestrikt   \n",
       "2                                    Reliflex   \n",
       "3  Wüst ziet hereniging met Kramer wel zitten   \n",
       "4                                  De avonden   \n",
       "\n",
       "                                         description   workflow       type  \\\n",
       "0                                               None  PUBLISHED    SEGMENT   \n",
       "1  'Gestrikt' is terug! In het nieuwe seizoen nee...  PUBLISHED  BROADCAST   \n",
       "2  Jan Lagas is Bahaí. Dat was hij niet altijd. H...  PUBLISHED       CLIP   \n",
       "3                                               None  PUBLISHED       CLIP   \n",
       "4  van 20.00 tot 21.30 STUDIO NMO \\nMedy van der ...  PUBLISHED  BROADCAST   \n",
       "\n",
       "  broadcaster  isYouth                                           profiles  \\\n",
       "0         MAX    False                                   [ntrglobal, max]   \n",
       "1        OBBT    False  [twcctv, npofocusmedia, ntrwetenschapmedia, nt...   \n",
       "2        NCRV    False                                        [ntrglobal]   \n",
       "3         NOS    False                           [twcctv, ntrglobal, nos]   \n",
       "4        VPRO    False  [vpro, woord, vpro-predictions, npofocusmedia,...   \n",
       "\n",
       "         genres broadcasters  \n",
       "0          None        [MAX]  \n",
       "1          None       [OBBT]  \n",
       "2  [3.0.1.7.26]       [NCRV]  \n",
       "3          None        [NOS]  \n",
       "4          None       [VPRO]  "
      ]
     },
     "execution_count": 162,
     "metadata": {},
     "output_type": "execute_result"
    }
   ],
   "source": [
    "df.head()"
   ]
  },
  {
   "cell_type": "markdown",
   "metadata": {},
   "source": [
    "### Visualizing data distribution"
   ]
  },
  {
   "cell_type": "markdown",
   "metadata": {},
   "source": [
    "The data consists out of non-numerical features, with a lot of unstructured text. This text can be further processed to produce numerical features."
   ]
  },
  {
   "cell_type": "code",
   "execution_count": 154,
   "metadata": {},
   "outputs": [
    {
     "name": "stdout",
     "output_type": "stream",
     "text": [
      "There are 6 non numerical features including:\n",
      "['mid', 'title', 'description', 'profiles', 'genres', 'broadcasters']\n"
     ]
    }
   ],
   "source": [
    "df_not_num = df.select_dtypes(include = ['O'])\n",
    "print('There are {} non numerical features including:\\n{}'.format(len(df_not_num.columns), df_not_num.columns.tolist()))"
   ]
  },
  {
   "cell_type": "code",
   "execution_count": 212,
   "metadata": {
    "scrolled": false
   },
   "outputs": [
    {
     "data": {
      "text/plain": [
       "mid               object\n",
       "class           category\n",
       "avType          category\n",
       "title             object\n",
       "description       object\n",
       "workflow        category\n",
       "type            category\n",
       "broadcaster     category\n",
       "isYouth             bool\n",
       "profiles          object\n",
       "genres            object\n",
       "broadcasters      object\n",
       "dtype: object"
      ]
     },
     "execution_count": 212,
     "metadata": {},
     "output_type": "execute_result"
    }
   ],
   "source": [
    "df['class'] = df['class'].astype('category')\n",
    "df['avType'] = df['avType'].astype('category')\n",
    "df['workflow'] = df['workflow'].astype('category')\n",
    "df['type'] = df['type'].astype('category')\n",
    "df['broadcaster'] = df['broadcaster'].astype('category')\n",
    "df['isYouth'] = df['isYouth'].astype('bool')\n",
    "df.dtypes"
   ]
  },
  {
   "cell_type": "code",
   "execution_count": 188,
   "metadata": {},
   "outputs": [],
   "source": [
    "df_small_category = df[['class', 'avType', 'workflow', 'isYouth']].copy()"
   ]
  },
  {
   "cell_type": "code",
   "execution_count": 207,
   "metadata": {},
   "outputs": [
    {
     "data": {
      "image/png": "[encoded data removed]",
      "text/plain": [
       "<Figure size 576x576 with 4 Axes>"
      ]
     },
     "metadata": {
      "needs_background": "light"
     },
     "output_type": "display_data"
    }
   ],
   "source": [
    "fig, axes = plt.subplots(2,2, figsize=(8,8))\n",
    "\n",
    "for i, ax in enumerate(fig.axes):\n",
    "    if i < len(df_small_category.columns):\n",
    "        ax.set_xticklabels(ax.xaxis.get_majorticklabels(), rotation=45)\n",
    "        sns.countplot(x=df_small_category.columns[i], data=df_small_category, ax=ax)\n",
    "\n",
    "fig.tight_layout()"
   ]
  },
  {
   "cell_type": "code",
   "execution_count": 175,
   "metadata": {},
   "outputs": [
    {
     "data": {
      "text/plain": [
       "(array([ 0,  1,  2,  3,  4,  5,  6,  7,  8,  9, 10, 11, 12, 13, 14, 15]),\n",
       " <a list of 16 Text xticklabel objects>)"
      ]
     },
     "execution_count": 175,
     "metadata": {},
     "output_type": "execute_result"
    },
    {
     "data": {
      "image/png": "[encoded data removed]",
      "text/plain": [
       "<Figure size 720x432 with 1 Axes>"
      ]
     },
     "metadata": {
      "needs_background": "light"
     },
     "output_type": "display_data"
    }
   ],
   "source": [
    "plt.figure(figsize = (10,6))\n",
    "ax = sns.countplot(x=\"type\", data=df)\n",
    "plt.xticks(rotation=45)"
   ]
  },
  {
   "cell_type": "code",
   "execution_count": 187,
   "metadata": {
    "scrolled": true
   },
   "outputs": [
    {
     "data": {
      "text/plain": [
       "(array([ 0,  1,  2,  3,  4,  5,  6,  7,  8,  9, 10, 11, 12, 13, 14, 15, 16,\n",
       "        17, 18, 19, 20, 21, 22, 23, 24, 25, 26, 27, 28, 29, 30, 31, 32, 33,\n",
       "        34, 35, 36, 37, 38, 39, 40, 41, 42, 43, 44, 45, 46, 47, 48, 49, 50,\n",
       "        51, 52, 53, 54, 55, 56, 57, 58, 59, 60]),\n",
       " <a list of 61 Text xticklabel objects>)"
      ]
     },
     "execution_count": 187,
     "metadata": {},
     "output_type": "execute_result"
    },
    {
     "data": {
      "image/png": "[encoded data removed]",
      "text/plain": [
       "<Figure size 1152x360 with 1 Axes>"
      ]
     },
     "metadata": {
      "needs_background": "light"
     },
     "output_type": "display_data"
    }
   ],
   "source": [
    "plt.figure(figsize = (16,5))\n",
    "ax = sns.countplot(x=\"broadcaster\", data=df)\n",
    "plt.xticks(rotation=45)"
   ]
  },
  {
   "cell_type": "markdown",
   "metadata": {},
   "source": [
    "#### Description investigation"
   ]
  },
  {
   "cell_type": "code",
   "execution_count": 208,
   "metadata": {},
   "outputs": [
    {
     "data": {
      "text/plain": [
       "mid               object\n",
       "class           category\n",
       "avType          category\n",
       "title             object\n",
       "description       object\n",
       "workflow        category\n",
       "type            category\n",
       "broadcaster     category\n",
       "isYouth             bool\n",
       "profiles          object\n",
       "genres            object\n",
       "broadcasters      object\n",
       "dtype: object"
      ]
     },
     "execution_count": 208,
     "metadata": {},
     "output_type": "execute_result"
    }
   ],
   "source": [
    "df.dtypes"
   ]
  },
  {
   "cell_type": "code",
   "execution_count": 217,
   "metadata": {},
   "outputs": [],
   "source": [
    "df['title_length'] = df.title.str.len()\n",
    "df['description_length'] = df.description.str.len()\n",
    "df['title_length'] = df['title_length'].fillna(0)\n",
    "df['description_length'] = df['description_length'].fillna(0)"
   ]
  },
  {
   "cell_type": "code",
   "execution_count": 232,
   "metadata": {},
   "outputs": [
    {
     "name": "stdout",
     "output_type": "stream",
     "text": [
      "Mean 15.87747\n",
      "Median 12.0\n"
     ]
    }
   ],
   "source": [
    "print(\"Mean \" + str(df['title_length'].mean()))\n",
    "print(\"Median \" + str(df['title_length'].median()))"
   ]
  },
  {
   "cell_type": "code",
   "execution_count": 219,
   "metadata": {
    "scrolled": true
   },
   "outputs": [
    {
     "data": {
      "text/plain": [
       "<matplotlib.axes._subplots.AxesSubplot at 0x7fbc927de810>"
      ]
     },
     "execution_count": 219,
     "metadata": {},
     "output_type": "execute_result"
    },
    {
     "data": {
      "image/png": "[encoded data removed]",
      "text/plain": [
       "<Figure size 432x432 with 1 Axes>"
      ]
     },
     "metadata": {
      "needs_background": "light"
     },
     "output_type": "display_data"
    }
   ],
   "source": [
    "plt.figure(figsize=(6,6))\n",
    "sns.distplot(df['title_length'])"
   ]
  },
  {
   "cell_type": "code",
   "execution_count": 233,
   "metadata": {},
   "outputs": [
    {
     "name": "stdout",
     "output_type": "stream",
     "text": [
      "Mean 133.56828\n",
      "Median 0.0\n"
     ]
    }
   ],
   "source": [
    "print(\"Mean \" + str(df['description_length'].mean()))\n",
    "print(\"Median \" + str(df['description_length'].median()))"
   ]
  },
  {
   "cell_type": "code",
   "execution_count": 236,
   "metadata": {},
   "outputs": [
    {
     "data": {
      "text/plain": [
       "<matplotlib.axes._subplots.AxesSubplot at 0x7fbc8f76a290>"
      ]
     },
     "execution_count": 236,
     "metadata": {},
     "output_type": "execute_result"
    },
    {
     "data": {
      "image/png": "[encoded data removed]",
      "text/plain": [
       "<Figure size 432x432 with 1 Axes>"
      ]
     },
     "metadata": {
      "needs_background": "light"
     },
     "output_type": "display_data"
    }
   ],
   "source": [
    "plt.figure(figsize=(6,6))\n",
    "sns.distplot(df['description_length'])"
   ]
  },
  {
   "cell_type": "markdown",
   "metadata": {},
   "source": [
    "- Both title and description length has a skewed distribution\n",
    "- The median of the description length is 0 (thus NaN)"
   ]
  },
  {
   "cell_type": "markdown",
   "metadata": {},
   "source": [
    "#### Subtitle investigation"
   ]
  },
  {
   "cell_type": "code",
   "execution_count": 7,
   "metadata": {},
   "outputs": [],
   "source": [
    "mid = \"AT_2111647\" #widm ep. 6\n",
    "#mid = \"POW_04056750\" #nos journaal\n",
    "#mid = \"VPWON_1297943\" #de kennis van nu\n",
    "poms_endpoint = \"https://rs.poms.omroep.nl/v1/api/subtitles/\"\n",
    "r = requests.get(poms_endpoint + mid + \"/nl_NL/CAPTION.vtt\")"
   ]
  },
  {
   "cell_type": "code",
   "execution_count": 11,
   "metadata": {},
   "outputs": [
    {
     "data": {
      "text/plain": [
       "['888',\n",
       " 'ga naar wieisdemol.nl voor extra informatie over de kandidaten...',\n",
       " \"de afleveringen, video's... 3, 2, 1!\",\n",
       " '...en mis niets.',\n",
       " 'helemaal beneden staan twee geldkistjes.',\n",
       " 'o! o, shit, man!',\n",
       " 'mijn armen konden niet meer!',\n",
       " 'maar ik moest verder.',\n",
       " 'hij is niet bij de eerste foto geweest.',\n",
       " 'rick paul zei dat-ie uitgleed...']"
      ]
     },
     "execution_count": 11,
     "metadata": {},
     "output_type": "execute_result"
    }
   ],
   "source": [
    "sub = r.text.encode('ascii','ignore').split('\\n\\n')#.split('\\n') # encode & split subtitles\n",
    "sub = sub[1:] # remove first entry of subtitles 'webvtt'\n",
    "sub = [line.split('\\n', 2)[-1].replace('\\n', ' ') for line in sub] # remove display time info and '\\n' in subtitle text\n",
    "sub = [x.lower() for x in sub] # lower every word\n",
    "sub[:10]"
   ]
  },
  {
   "cell_type": "code",
   "execution_count": 12,
   "metadata": {},
   "outputs": [],
   "source": [
    "#mid = \"AT_2111647\" #widm ep. 6\n",
    "mid = \"POW_04056750\" #nos journaal\n",
    "#mid = \"VPWON_1297943\" #de kennis van nu\n",
    "poms_endpoint = \"https://rs.poms.omroep.nl/v1/api/subtitles/\"\n",
    "r = requests.get(poms_endpoint + mid + \"/nl_NL/CAPTION.vtt\")"
   ]
  },
  {
   "cell_type": "code",
   "execution_count": 13,
   "metadata": {
    "scrolled": true
   },
   "outputs": [
    {
     "data": {
      "text/plain": [
       "['888',\n",
       " 'ga naar wieisdemol.nl voor extra informatie over de kandidaten...',\n",
       " \"de afleveringen, video's... 3, 2, 1!\",\n",
       " '...en mis niets.',\n",
       " 'helemaal beneden staan twee geldkistjes.',\n",
       " 'o! o, shit, man!',\n",
       " 'mijn armen konden niet meer!',\n",
       " 'maar ik moest verder.',\n",
       " 'hij is niet bij de eerste foto geweest.',\n",
       " 'rick paul zei dat-ie uitgleed...']"
      ]
     },
     "execution_count": 13,
     "metadata": {},
     "output_type": "execute_result"
    }
   ],
   "source": [
    "sub2 = r.text.encode('ascii','ignore').split('\\n\\n') # encode & split subtitles\n",
    "sub2 = sub2[1:] # remove first entry of subtitles 'webvtt'\n",
    "sub2 = [line.split('\\n', 2)[-1].replace('\\n', ' ') for line in sub2] # remove display time info and '\\n' in subtitle text\n",
    "sub2 = [x.lower() for x in sub2] # lower every word\n",
    "sub[:10]"
   ]
  },
  {
   "cell_type": "code",
   "execution_count": 15,
   "metadata": {},
   "outputs": [],
   "source": [
    "from langdetect import detect\n",
    "#sub.progress_map(detect)"
   ]
  }
 ],
 "metadata": {
  "kernelspec": {
   "display_name": "Python 3",
   "language": "python",
   "name": "python3"
  },
  "language_info": {
   "codemirror_mode": {
    "name": "ipython",
    "version": 3
   },
   "file_extension": ".py",
   "mimetype": "text/x-python",
   "name": "python",
   "nbconvert_exporter": "python",
   "pygments_lexer": "ipython3",
   "version": "3.6.5"
  },
  "varInspector": {
   "cols": {
    "lenName": 16,
    "lenType": 16,
    "lenVar": 40
   },
   "kernels_config": {
    "python": {
     "delete_cmd_postfix": "",
     "delete_cmd_prefix": "del ",
     "library": "var_list.py",
     "varRefreshCmd": "print(var_dic_list())"
    },
    "r": {
     "delete_cmd_postfix": ") ",
     "delete_cmd_prefix": "rm(",
     "library": "var_list.r",
     "varRefreshCmd": "cat(var_dic_list()) "
    }
   },
   "types_to_exclude": [
    "module",
    "function",
    "builtin_function_or_method",
    "instance",
    "_Feature"
   ],
   "window_display": false
  }
 },
 "nbformat": 4,
 "nbformat_minor": 2
}
