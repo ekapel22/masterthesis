{
 "cells": [
  {
   "cell_type": "markdown",
   "metadata": {},
   "source": [
    "# Interaction information"
   ]
  },
  {
   "cell_type": "markdown",
   "metadata": {},
   "source": [
    "## Data preparation"
   ]
  },
  {
   "cell_type": "code",
   "execution_count": null,
   "metadata": {},
   "outputs": [],
   "source": [
    "import math\n",
    "import numpy as np\n",
    "import pandas as pd\n",
    "import seaborn as sns\n",
    "import matplotlib.pyplot as plt\n",
    "import pyspark.sql.functions as sf\n",
    "\n",
    "pd.options.display.max_columns = 500"
   ]
  },
  {
   "cell_type": "markdown",
   "metadata": {},
   "source": [
    "## Watched interactions\n",
    "Gain all events of watched series. (Train set + Test set)"
   ]
  },
  {
   "cell_type": "code",
   "execution_count": null,
   "metadata": {},
   "outputs": [],
   "source": [
    "paths = []\n",
    "for i in range(1, 23):\n",
    "    paths.append('gs://mit-processed-events-prod.npo-data.nl/all/year=2019/month=3/dayofmonth=' + str(i))\n",
    "events = spark.read.parquet(*paths)\n",
    "\n",
    "print(events.count())"
   ]
  },
  {
   "cell_type": "code",
   "execution_count": null,
   "metadata": {},
   "outputs": [],
   "source": [
    "# group on streamWaypoint\n",
    "events_waypoint = (\n",
    "    events\n",
    "    .filter(sf.col('eventtype') == 'streamWaypoint')\n",
    "    .filter(~sf.col('detectedduplicate'))\n",
    "    .filter(~sf.col('detectedcorruption'))\n",
    "    .filter(sf.col('topspinBrand') == 'npoportal') # only npo-start\n",
    "    .filter(~sf.col('npoprofileid').isNull()) # have an account\n",
    "    .filter(~(sf.col('npoprofileid') == ''))  \n",
    "    .withColumn('year', sf.year(sf.col('timestamp')))\n",
    "    .withColumn('month', sf.month(sf.col('timestamp')))\n",
    "    .withColumn('day', sf.dayofmonth(sf.col('timestamp')))\n",
    "    .groupby('month', 'day', 'sessionId', 'streamid', 'npoprofileid')\n",
    "    .agg(sf.sum(sf.when(sf.col('eventtype') == 'streamWaypoint', 1).otherwise(0)).alias('waypoint_count'))\n",
    "    .withColumn('waypoint_duration', sf.col('waypoint_count') * 30000) #times 30s (or 30.000 ms)\n",
    ")\n",
    "print(events_waypoint.count())"
   ]
  },
  {
   "cell_type": "code",
   "execution_count": null,
   "metadata": {},
   "outputs": [],
   "source": [
    "poms = (\n",
    "    spark.read.parquet(\"gs://mit-processed-events-prod.npo-data.nl/poms-enriched/\")\n",
    "    .select('mid', 'type', 'duration', 'seriesRef')\n",
    "    .filter(sf.col(\"type\")==\"BROADCAST\")\n",
    "    .filter(~sf.col(\"seriesRef\").isNull())\n",
    ").cache()\n",
    "\n",
    "# join events with poms data to get seriesRef, and filter on watch proportion > 0.5\n",
    "events_join = (\n",
    "    events_waypoint\n",
    "    .join(poms, events_waypoint.streamid == poms.mid, how='left')\n",
    "    .drop('streamid')\n",
    "    .withColumn('watch_proportion', sf.round((sf.col('waypoint_duration') / sf.col('duration')), 2))\n",
    "    .filter(sf.col('watch_proportion') > 0.5)\n",
    ")\n",
    "print(events_join.count())"
   ]
  },
  {
   "cell_type": "code",
   "execution_count": null,
   "metadata": {},
   "outputs": [],
   "source": [
    "# the series presented in 'Aanbevolen voor jou' that were watched by users\n",
    "final_events = watched_events_rank.select('month', 'day', 'npoprofileid', 'seriesRef', 'recofferid').dropDuplicates()\n",
    "final_events.write.parquet(\"gs://dataproc-jupyter-eileen.npo-data.nl/data/events/february/\")"
   ]
  },
  {
   "cell_type": "markdown",
   "metadata": {},
   "source": [
    "## Recommended and watch interactions\n",
    "Gain all events of watched series that were recommended. (Recommended test set)"
   ]
  },
  {
   "cell_type": "code",
   "execution_count": null,
   "metadata": {},
   "outputs": [],
   "source": [
    "paths = []\n",
    "for i in range(22, 23):\n",
    "    paths.append('gs://mit-processed-events-prod.npo-data.nl/all/year=2019/month=3/dayofmonth=' + str(i))\n",
    "events = spark.read.parquet(*paths)\n",
    "\n",
    "print(events.count())"
   ]
  },
  {
   "cell_type": "code",
   "execution_count": null,
   "metadata": {},
   "outputs": [],
   "source": [
    "# all offers and choices\n",
    "events_recommender = (\n",
    "    events\n",
    "    .filter(~sf.col('detectedduplicate'))\n",
    "    .filter(~sf.col('detectedcorruption'))\n",
    "    .filter(sf.col('topspinBrand') == 'npoportal') # only npo-start\n",
    "    .filter(~sf.col('npoprofileid').isNull()) # have an account\n",
    "    .filter(~(sf.col('npoprofileid') == ''))  \n",
    "    .filter(sf.col('rectype') == 'algorithm') # recommended by algorithm\n",
    "    .select('partyid', 'sessionid', 'eventid', 'eventtype', 'streamid', \n",
    "            'rectype', 'recpanel', 'recofferid', 'recdestinations', \n",
    "            'npouserid', 'npoprofileid', 'nposubscription', 'environment')\n",
    "    .withColumn('contentid', sf.explode('recdestinations.contentId'))\n",
    "    .withColumn('index', sf.explode('recdestinations.index'))\n",
    "    .withColumn('numberdisplayed', sf.explode('recdestinations.numberDisplayed'))\n",
    "    .withColumn('recommender', sf.explode('recdestinations.recommender'))\n",
    "    .filter(sf.col('recommender').startswith('ps-')) # aanbevolen voor jou\n",
    "    .filter(sf.col('index') < 5 ) #k=5\n",
    "    .withColumn('chosen', sf.col('index') + 1) \n",
    ")\n",
    "print(events_recommender.count())"
   ]
  },
  {
   "cell_type": "code",
   "execution_count": null,
   "metadata": {},
   "outputs": [],
   "source": [
    "# get all offers\n",
    "offer_events = events_recommender.filter(sf.col('eventtype') == 'offer')\n",
    "offer_events.write.parquet(\"gs://dataproc-jupyter-eileen.npo-data.nl/data/events/rec_offered\")"
   ]
  },
  {
   "cell_type": "code",
   "execution_count": null,
   "metadata": {},
   "outputs": [],
   "source": [
    "# join offers to gain the series reference\n",
    "offer_events_join = offer_events.join(events_join.select('month', 'day', 'sessionId', 'mid', 'seriesRef'), \n",
    "                            (offer_events.sessionid == events_join.sessionId) & \n",
    "                            (offer_events.contentid == events_join.mid))\n",
    "\n",
    "# filter for watched series with rank\n",
    "watched_events_rank = ( \n",
    "    offer_events_join\n",
    "    .select('month', 'day', 'npoprofileid', 'seriesRef', 'chosen', 'recofferid')\n",
    "    .dropna()\n",
    "    .dropDuplicates()\n",
    ")\n",
    "watched_events_rank.write.parquet(\"gs://dataproc-jupyter-eileen.npo-data.nl/data/events/recwatched_rank\")"
   ]
  },
  {
   "cell_type": "code",
   "execution_count": null,
   "metadata": {},
   "outputs": [],
   "source": [
    "# the series presented in 'Aanbevolen voor jou' that were watched by users\n",
    "final_events = watched_events_rank.select('month', 'day', 'npoprofileid', 'seriesRef', 'recofferid').dropDuplicates()\n",
    "final_events.write.parquet(\"gs://dataproc-jupyter-eileen.npo-data.nl/data/events/recwatched\")"
   ]
  }
 ],
 "metadata": {
  "kernelspec": {
   "display_name": "PySpark",
   "language": "python",
   "name": "pyspark"
  },
  "language_info": {
   "codemirror_mode": {
    "name": "ipython",
    "version": 2
   },
   "file_extension": ".py",
   "mimetype": "text/x-python",
   "name": "python",
   "nbconvert_exporter": "python",
   "pygments_lexer": "ipython2",
   "version": "2.7.14"
  }
 },
 "nbformat": 4,
 "nbformat_minor": 2
}